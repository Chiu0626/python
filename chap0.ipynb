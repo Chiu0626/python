{
 "cells": [
  {
   "cell_type": "code",
   "execution_count": 2,
   "metadata": {},
   "outputs": [
    {
     "name": "stdout",
     "output_type": "stream",
     "text": [
      "   February 2021\n",
      "Mo Tu We Th Fr Sa Su\n",
      " 1  2  3  4  5  6  7\n",
      " 8  9 10 11 12 13 14\n",
      "15 16 17 18 19 20 21\n",
      "22 23 24 25 26 27 28\n",
      "\n"
     ]
    }
   ],
   "source": [
    "import calendar\n",
    "print(calendar.month(2021,2))"
   ]
  },
  {
   "cell_type": "code",
   "execution_count": 4,
   "metadata": {},
   "outputs": [
    {
     "name": "stdout",
     "output_type": "stream",
     "text": [
      "                                  2021\n",
      "\n",
      "      January                   February                   March\n",
      "Mo Tu We Th Fr Sa Su      Mo Tu We Th Fr Sa Su      Mo Tu We Th Fr Sa Su\n",
      "             1  2  3       1  2  3  4  5  6  7       1  2  3  4  5  6  7\n",
      " 4  5  6  7  8  9 10       8  9 10 11 12 13 14       8  9 10 11 12 13 14\n",
      "11 12 13 14 15 16 17      15 16 17 18 19 20 21      15 16 17 18 19 20 21\n",
      "18 19 20 21 22 23 24      22 23 24 25 26 27 28      22 23 24 25 26 27 28\n",
      "25 26 27 28 29 30 31                                29 30 31\n",
      "\n",
      "       April                      May                       June\n",
      "Mo Tu We Th Fr Sa Su      Mo Tu We Th Fr Sa Su      Mo Tu We Th Fr Sa Su\n",
      "          1  2  3  4                      1  2          1  2  3  4  5  6\n",
      " 5  6  7  8  9 10 11       3  4  5  6  7  8  9       7  8  9 10 11 12 13\n",
      "12 13 14 15 16 17 18      10 11 12 13 14 15 16      14 15 16 17 18 19 20\n",
      "19 20 21 22 23 24 25      17 18 19 20 21 22 23      21 22 23 24 25 26 27\n",
      "26 27 28 29 30            24 25 26 27 28 29 30      28 29 30\n",
      "                          31\n",
      "\n",
      "        July                     August                  September\n",
      "Mo Tu We Th Fr Sa Su      Mo Tu We Th Fr Sa Su      Mo Tu We Th Fr Sa Su\n",
      "          1  2  3  4                         1             1  2  3  4  5\n",
      " 5  6  7  8  9 10 11       2  3  4  5  6  7  8       6  7  8  9 10 11 12\n",
      "12 13 14 15 16 17 18       9 10 11 12 13 14 15      13 14 15 16 17 18 19\n",
      "19 20 21 22 23 24 25      16 17 18 19 20 21 22      20 21 22 23 24 25 26\n",
      "26 27 28 29 30 31         23 24 25 26 27 28 29      27 28 29 30\n",
      "                          30 31\n",
      "\n",
      "      October                   November                  December\n",
      "Mo Tu We Th Fr Sa Su      Mo Tu We Th Fr Sa Su      Mo Tu We Th Fr Sa Su\n",
      "             1  2  3       1  2  3  4  5  6  7             1  2  3  4  5\n",
      " 4  5  6  7  8  9 10       8  9 10 11 12 13 14       6  7  8  9 10 11 12\n",
      "11 12 13 14 15 16 17      15 16 17 18 19 20 21      13 14 15 16 17 18 19\n",
      "18 19 20 21 22 23 24      22 23 24 25 26 27 28      20 21 22 23 24 25 26\n",
      "25 26 27 28 29 30 31      29 30                     27 28 29 30 31\n",
      "\n"
     ]
    }
   ],
   "source": [
    "print(calendar.calendar(2021))"
   ]
  },
  {
   "cell_type": "code",
   "execution_count": 5,
   "metadata": {},
   "outputs": [
    {
     "name": "stdout",
     "output_type": "stream",
     "text": [
      "Fri Feb 26 13:07:00 2021\n"
     ]
    }
   ],
   "source": [
    "import time\n",
    "print(time.ctime())"
   ]
  },
  {
   "cell_type": "code",
   "execution_count": 6,
   "metadata": {},
   "outputs": [
    {
     "name": "stdout",
     "output_type": "stream",
     "text": [
      "Fri Feb 26 13:07:32 2021\n",
      "Fri Feb 26 13:07:33 2021\n",
      "Fri Feb 26 13:07:34 2021\n",
      "Fri Feb 26 13:07:35 2021\n",
      "Fri Feb 26 13:07:36 2021\n",
      "Fri Feb 26 13:07:37 2021\n",
      "Fri Feb 26 13:07:38 2021\n",
      "Fri Feb 26 13:07:39 2021\n",
      "Fri Feb 26 13:07:40 2021\n",
      "Fri Feb 26 13:07:41 2021\n"
     ]
    }
   ],
   "source": [
    "for i in range(10):\n",
    "    print(time.ctime())\n",
    "    time.sleep(1)"
   ]
  },
  {
   "cell_type": "code",
   "execution_count": 8,
   "metadata": {},
   "outputs": [
    {
     "data": {
      "image/png": "[encoded data removed]",
      "text/plain": [
       "<matplotlib.figure.Figure at 0x27a16c29518>"
      ]
     },
     "metadata": {},
     "output_type": "display_data"
    }
   ],
   "source": [
    "import matplotlib.pyplot as plt\n",
    "x=[1,2,3]\n",
    "y=[10, 3, 7]\n",
    "plt.bar(x,y)\n",
    "plt.show()"
   ]
  },
  {
   "cell_type": "code",
   "execution_count": 9,
   "metadata": {},
   "outputs": [
    {
     "data": {
      "image/png": "[encoded data removed]",
      "text/plain": [
       "<matplotlib.figure.Figure at 0x27a16c29128>"
      ]
     },
     "metadata": {},
     "output_type": "display_data"
    }
   ],
   "source": [
    "plt.pie(y, labels=x)\n",
    "plt.show()"
   ]
  },
  {
   "cell_type": "code",
   "execution_count": 16,
   "metadata": {},
   "outputs": [
    {
     "data": {
      "text/html": [
       "<div>\n",
       "<style>\n",
       "    .dataframe thead tr:only-child th {\n",
       "        text-align: right;\n",
       "    }\n",
       "\n",
       "    .dataframe thead th {\n",
       "        text-align: left;\n",
       "    }\n",
       "\n",
       "    .dataframe tbody tr th {\n",
       "        vertical-align: top;\n",
       "    }\n",
       "</style>\n",
       "<table border=\"1\" class=\"dataframe\">\n",
       "  <thead>\n",
       "    <tr style=\"text-align: right;\">\n",
       "      <th></th>\n",
       "      <th>學校代碼</th>\n",
       "      <th>學校名稱</th>\n",
       "      <th>日間∕進修別</th>\n",
       "      <th>等級別</th>\n",
       "      <th>總計</th>\n",
       "      <th>男生計</th>\n",
       "      <th>女生計</th>\n",
       "      <th>一年級男生</th>\n",
       "      <th>一年級女生</th>\n",
       "      <th>二年級男生</th>\n",
       "      <th>...</th>\n",
       "      <th>五年級男生</th>\n",
       "      <th>五年級女生</th>\n",
       "      <th>六年級男生</th>\n",
       "      <th>六年級女生</th>\n",
       "      <th>七年級男生</th>\n",
       "      <th>七年級女生</th>\n",
       "      <th>延修生男生</th>\n",
       "      <th>延修生女生</th>\n",
       "      <th>縣市名稱</th>\n",
       "      <th>體系別</th>\n",
       "    </tr>\n",
       "  </thead>\n",
       "  <tbody>\n",
       "    <tr>\n",
       "      <th>273</th>\n",
       "      <td>1006</td>\n",
       "      <td>中國文化大學</td>\n",
       "      <td>D 日</td>\n",
       "      <td>B 學士</td>\n",
       "      <td>20411</td>\n",
       "      <td>9930</td>\n",
       "      <td>10481</td>\n",
       "      <td>2368</td>\n",
       "      <td>2426</td>\n",
       "      <td>2178</td>\n",
       "      <td>...</td>\n",
       "      <td>33</td>\n",
       "      <td>27</td>\n",
       "      <td>0</td>\n",
       "      <td>0</td>\n",
       "      <td>0</td>\n",
       "      <td>0</td>\n",
       "      <td>1037</td>\n",
       "      <td>872</td>\n",
       "      <td>30 臺北市</td>\n",
       "      <td>1 一般</td>\n",
       "    </tr>\n",
       "    <tr>\n",
       "      <th>267</th>\n",
       "      <td>1005</td>\n",
       "      <td>淡江大學</td>\n",
       "      <td>D 日</td>\n",
       "      <td>B 學士</td>\n",
       "      <td>20273</td>\n",
       "      <td>10310</td>\n",
       "      <td>9963</td>\n",
       "      <td>2471</td>\n",
       "      <td>2333</td>\n",
       "      <td>2462</td>\n",
       "      <td>...</td>\n",
       "      <td>31</td>\n",
       "      <td>28</td>\n",
       "      <td>0</td>\n",
       "      <td>0</td>\n",
       "      <td>0</td>\n",
       "      <td>0</td>\n",
       "      <td>746</td>\n",
       "      <td>371</td>\n",
       "      <td>01 新北市</td>\n",
       "      <td>1 一般</td>\n",
       "    </tr>\n",
       "    <tr>\n",
       "      <th>251</th>\n",
       "      <td>1002</td>\n",
       "      <td>輔仁大學</td>\n",
       "      <td>D 日</td>\n",
       "      <td>B 學士</td>\n",
       "      <td>17528</td>\n",
       "      <td>7402</td>\n",
       "      <td>10126</td>\n",
       "      <td>1669</td>\n",
       "      <td>2382</td>\n",
       "      <td>1733</td>\n",
       "      <td>...</td>\n",
       "      <td>33</td>\n",
       "      <td>18</td>\n",
       "      <td>27</td>\n",
       "      <td>19</td>\n",
       "      <td>3</td>\n",
       "      <td>1</td>\n",
       "      <td>461</td>\n",
       "      <td>379</td>\n",
       "      <td>01 新北市</td>\n",
       "      <td>1 一般</td>\n",
       "    </tr>\n",
       "    <tr>\n",
       "      <th>229</th>\n",
       "      <td>53</td>\n",
       "      <td>國立高雄科技大學</td>\n",
       "      <td>D 日</td>\n",
       "      <td>B 四技</td>\n",
       "      <td>17287</td>\n",
       "      <td>10636</td>\n",
       "      <td>6651</td>\n",
       "      <td>2574</td>\n",
       "      <td>1664</td>\n",
       "      <td>2628</td>\n",
       "      <td>...</td>\n",
       "      <td>0</td>\n",
       "      <td>0</td>\n",
       "      <td>0</td>\n",
       "      <td>0</td>\n",
       "      <td>0</td>\n",
       "      <td>0</td>\n",
       "      <td>451</td>\n",
       "      <td>159</td>\n",
       "      <td>50 高雄市</td>\n",
       "      <td>2 技職</td>\n",
       "    </tr>\n",
       "    <tr>\n",
       "      <th>324</th>\n",
       "      <td>1016</td>\n",
       "      <td>銘傳大學</td>\n",
       "      <td>D 日</td>\n",
       "      <td>B 學士</td>\n",
       "      <td>17200</td>\n",
       "      <td>6759</td>\n",
       "      <td>10441</td>\n",
       "      <td>1620</td>\n",
       "      <td>2562</td>\n",
       "      <td>1605</td>\n",
       "      <td>...</td>\n",
       "      <td>31</td>\n",
       "      <td>22</td>\n",
       "      <td>0</td>\n",
       "      <td>0</td>\n",
       "      <td>0</td>\n",
       "      <td>0</td>\n",
       "      <td>501</td>\n",
       "      <td>408</td>\n",
       "      <td>30 臺北市</td>\n",
       "      <td>1 一般</td>\n",
       "    </tr>\n",
       "    <tr>\n",
       "      <th>279</th>\n",
       "      <td>1007</td>\n",
       "      <td>逢甲大學</td>\n",
       "      <td>D 日</td>\n",
       "      <td>B 學士</td>\n",
       "      <td>16756</td>\n",
       "      <td>10042</td>\n",
       "      <td>6714</td>\n",
       "      <td>2293</td>\n",
       "      <td>1722</td>\n",
       "      <td>2423</td>\n",
       "      <td>...</td>\n",
       "      <td>62</td>\n",
       "      <td>58</td>\n",
       "      <td>0</td>\n",
       "      <td>0</td>\n",
       "      <td>0</td>\n",
       "      <td>0</td>\n",
       "      <td>412</td>\n",
       "      <td>116</td>\n",
       "      <td>19 臺中市</td>\n",
       "      <td>1 一般</td>\n",
       "    </tr>\n",
       "    <tr>\n",
       "      <th>11</th>\n",
       "      <td>3</td>\n",
       "      <td>國立臺灣大學</td>\n",
       "      <td>D 日</td>\n",
       "      <td>B 學士</td>\n",
       "      <td>16614</td>\n",
       "      <td>9431</td>\n",
       "      <td>7183</td>\n",
       "      <td>2105</td>\n",
       "      <td>1592</td>\n",
       "      <td>2165</td>\n",
       "      <td>...</td>\n",
       "      <td>167</td>\n",
       "      <td>111</td>\n",
       "      <td>145</td>\n",
       "      <td>71</td>\n",
       "      <td>1</td>\n",
       "      <td>4</td>\n",
       "      <td>728</td>\n",
       "      <td>552</td>\n",
       "      <td>30 臺北市</td>\n",
       "      <td>1 一般</td>\n",
       "    </tr>\n",
       "    <tr>\n",
       "      <th>263</th>\n",
       "      <td>1004</td>\n",
       "      <td>中原大學</td>\n",
       "      <td>D 日</td>\n",
       "      <td>B 學士</td>\n",
       "      <td>13421</td>\n",
       "      <td>7183</td>\n",
       "      <td>6238</td>\n",
       "      <td>1615</td>\n",
       "      <td>1521</td>\n",
       "      <td>1666</td>\n",
       "      <td>...</td>\n",
       "      <td>72</td>\n",
       "      <td>89</td>\n",
       "      <td>0</td>\n",
       "      <td>0</td>\n",
       "      <td>0</td>\n",
       "      <td>0</td>\n",
       "      <td>552</td>\n",
       "      <td>298</td>\n",
       "      <td>03 桃園市</td>\n",
       "      <td>1 一般</td>\n",
       "    </tr>\n",
       "    <tr>\n",
       "      <th>246</th>\n",
       "      <td>1001</td>\n",
       "      <td>東海大學</td>\n",
       "      <td>D 日</td>\n",
       "      <td>B 學士</td>\n",
       "      <td>12993</td>\n",
       "      <td>5742</td>\n",
       "      <td>7251</td>\n",
       "      <td>1308</td>\n",
       "      <td>1851</td>\n",
       "      <td>1394</td>\n",
       "      <td>...</td>\n",
       "      <td>19</td>\n",
       "      <td>15</td>\n",
       "      <td>0</td>\n",
       "      <td>0</td>\n",
       "      <td>0</td>\n",
       "      <td>0</td>\n",
       "      <td>301</td>\n",
       "      <td>218</td>\n",
       "      <td>19 臺中市</td>\n",
       "      <td>1 一般</td>\n",
       "    </tr>\n",
       "    <tr>\n",
       "      <th>358</th>\n",
       "      <td>1023</td>\n",
       "      <td>南臺科技大學</td>\n",
       "      <td>D 日</td>\n",
       "      <td>B 四技</td>\n",
       "      <td>12720</td>\n",
       "      <td>7186</td>\n",
       "      <td>5534</td>\n",
       "      <td>1767</td>\n",
       "      <td>1327</td>\n",
       "      <td>1712</td>\n",
       "      <td>...</td>\n",
       "      <td>0</td>\n",
       "      <td>0</td>\n",
       "      <td>0</td>\n",
       "      <td>0</td>\n",
       "      <td>0</td>\n",
       "      <td>0</td>\n",
       "      <td>363</td>\n",
       "      <td>181</td>\n",
       "      <td>11 臺南市</td>\n",
       "      <td>2 技職</td>\n",
       "    </tr>\n",
       "  </tbody>\n",
       "</table>\n",
       "<p>10 rows × 25 columns</p>\n",
       "</div>"
      ],
      "text/plain": [
       "     學校代碼      學校名稱 日間∕進修別   等級別     總計    男生計    女生計  一年級男生  一年級女生  二年級男生  \\\n",
       "273  1006    中國文化大學    D 日  B 學士  20411   9930  10481   2368   2426   2178   \n",
       "267  1005      淡江大學    D 日  B 學士  20273  10310   9963   2471   2333   2462   \n",
       "251  1002      輔仁大學    D 日  B 學士  17528   7402  10126   1669   2382   1733   \n",
       "229    53  國立高雄科技大學    D 日  B 四技  17287  10636   6651   2574   1664   2628   \n",
       "324  1016      銘傳大學    D 日  B 學士  17200   6759  10441   1620   2562   1605   \n",
       "279  1007      逢甲大學    D 日  B 學士  16756  10042   6714   2293   1722   2423   \n",
       "11      3    國立臺灣大學    D 日  B 學士  16614   9431   7183   2105   1592   2165   \n",
       "263  1004      中原大學    D 日  B 學士  13421   7183   6238   1615   1521   1666   \n",
       "246  1001      東海大學    D 日  B 學士  12993   5742   7251   1308   1851   1394   \n",
       "358  1023    南臺科技大學    D 日  B 四技  12720   7186   5534   1767   1327   1712   \n",
       "\n",
       "     ...   五年級男生  五年級女生  六年級男生  六年級女生  七年級男生  七年級女生  延修生男生  延修生女生    縣市名稱  \\\n",
       "273  ...      33     27      0      0      0      0   1037    872  30 臺北市   \n",
       "267  ...      31     28      0      0      0      0    746    371  01 新北市   \n",
       "251  ...      33     18     27     19      3      1    461    379  01 新北市   \n",
       "229  ...       0      0      0      0      0      0    451    159  50 高雄市   \n",
       "324  ...      31     22      0      0      0      0    501    408  30 臺北市   \n",
       "279  ...      62     58      0      0      0      0    412    116  19 臺中市   \n",
       "11   ...     167    111    145     71      1      4    728    552  30 臺北市   \n",
       "263  ...      72     89      0      0      0      0    552    298  03 桃園市   \n",
       "246  ...      19     15      0      0      0      0    301    218  19 臺中市   \n",
       "358  ...       0      0      0      0      0      0    363    181  11 臺南市   \n",
       "\n",
       "      體系別  \n",
       "273  1 一般  \n",
       "267  1 一般  \n",
       "251  1 一般  \n",
       "229  2 技職  \n",
       "324  1 一般  \n",
       "279  1 一般  \n",
       "11   1 一般  \n",
       "263  1 一般  \n",
       "246  1 一般  \n",
       "358  2 技職  \n",
       "\n",
       "[10 rows x 25 columns]"
      ]
     },
     "execution_count": 16,
     "metadata": {},
     "output_type": "execute_result"
    }
   ],
   "source": [
    "import pandas as pd\n",
    "df=pd.read_csv('http://stats.moe.gov.tw/files/detail/108/108_student.csv')\n",
    "df.sort_values(by=['總計'], ascending=False).head(10)"
   ]
  },
  {
   "cell_type": "code",
   "execution_count": 18,
   "metadata": {},
   "outputs": [
    {
     "data": {
      "text/plain": [
       "True"
      ]
     },
     "execution_count": 18,
     "metadata": {},
     "output_type": "execute_result"
    }
   ],
   "source": [
    "import requests, webbrowser\n",
    "pic=requests.get('https://random.dog/woof.json').json()['url']\n",
    "webbrowser.open(pic)"
   ]
  },
  {
   "cell_type": "code",
   "execution_count": 20,
   "metadata": {},
   "outputs": [
    {
     "data": {
      "text/plain": [
       "<seaborn.axisgrid.PairGrid at 0x27a1af4cf28>"
      ]
     },
     "execution_count": 20,
     "metadata": {},
     "output_type": "execute_result"
    }
   ],
   "source": [
    "import seaborn as sns\n",
    "sns.pairplot(data=sns.load_dataset('iris'))"
   ]
  },
  {
   "cell_type": "code",
   "execution_count": null,
   "metadata": {
    "collapsed": true
   },
   "outputs": [],
   "source": []
  }
 ],
 "metadata": {
  "kernelspec": {
   "display_name": "Python 3",
   "language": "python",
   "name": "python3"
  },
  "language_info": {
   "codemirror_mode": {
    "name": "ipython",
    "version": 3
   },
   "file_extension": ".py",
   "mimetype": "text/x-python",
   "name": "python",
   "nbconvert_exporter": "python",
   "pygments_lexer": "ipython3",
   "version": "3.6.3"
  }
 },
 "nbformat": 4,
 "nbformat_minor": 2
}
